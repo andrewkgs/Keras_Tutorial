{
 "cells": [
  {
   "cell_type": "code",
   "execution_count": 1,
   "metadata": {},
   "outputs": [],
   "source": [
    "%matplotlib inline"
   ]
  },
  {
   "cell_type": "code",
   "execution_count": 2,
   "metadata": {},
   "outputs": [
    {
     "name": "stderr",
     "output_type": "stream",
     "text": [
      "Using TensorFlow backend.\n"
     ]
    }
   ],
   "source": [
    "import numpy as np\n",
    "import matplotlib.pyplot as plt\n",
    "\n",
    "from keras.datasets import mnist\n",
    "from keras.layers import Input, Dense, Dropout, Flatten, Conv2D, MaxPooling2D\n",
    "from keras.models import Model\n",
    "from keras.optimizers import Adam, SGD\n",
    "from keras.callbacks import ModelCheckpoint, EarlyStopping\n",
    "from keras.utils import to_categorical"
   ]
  },
  {
   "cell_type": "markdown",
   "metadata": {},
   "source": [
    "# Load images and labels"
   ]
  },
  {
   "cell_type": "code",
   "execution_count": 3,
   "metadata": {},
   "outputs": [
    {
     "name": "stdout",
     "output_type": "stream",
     "text": [
      "orginal training images shape: (60000, 28, 28)\n",
      "orginal training labels shape: (60000,)\n",
      "\n",
      "testing images shape: (10000, 28, 28)\n",
      "testing labels shape: (10000,)\n"
     ]
    }
   ],
   "source": [
    "num_classes = 10\n",
    "\n",
    "(x_train_org, y_train_org), (x_test_org, y_test_org) = mnist.load_data()\n",
    "print('orginal training images shape: {}\\norginal training labels shape: {}\\n'.format(x_train_org.shape, y_train_org.shape))\n",
    "print('testing images shape: {}\\ntesting labels shape: {}'.format(x_test_org.shape, y_test_org.shape))"
   ]
  },
  {
   "cell_type": "code",
   "execution_count": 4,
   "metadata": {},
   "outputs": [
    {
     "data": {
      "image/png": "[encoded data removed]",
      "text/plain": [
       "<Figure size 432x288 with 9 Axes>"
      ]
     },
     "metadata": {},
     "output_type": "display_data"
    }
   ],
   "source": [
    "for i in range(9):\n",
    "    plt.subplot(3,3,i+1)\n",
    "    plt.imshow(x_train_org[i], cmap='gray', interpolation='none')\n",
    "    plt.title(\"Class {}\".format(y_train_org[i]))"
   ]
  },
  {
   "cell_type": "code",
   "execution_count": 5,
   "metadata": {},
   "outputs": [
    {
     "name": "stdout",
     "output_type": "stream",
     "text": [
      "x_train shape: (50000, 28, 28, 1) // y_train.shape: (50000, 10)\n",
      "x_valid shape: (10000, 28, 28, 1) // y_valid.shape: (10000, 10)\n"
     ]
    }
   ],
   "source": [
    "x_train_org = np.expand_dims(x_train_org, axis=-1) / 255.\n",
    "x_test_org = np.expand_dims(x_test_org, axis=-1) / 255.\n",
    "\n",
    "x_train = x_train_org[:50000]\n",
    "y_train = to_categorical(y_train_org[:50000], num_classes)\n",
    "x_valid = x_train_org[50000:]\n",
    "y_valid = to_categorical(y_train_org[50000:], num_classes)\n",
    "\n",
    "x_test = x_test_org\n",
    "y_test = to_categorical(y_test_org)\n",
    "\n",
    "print('x_train shape: {} // y_train.shape: {}'.format(x_train.shape, y_train.shape))\n",
    "print('x_valid shape: {} // y_valid.shape: {}'.format(x_valid.shape, y_valid.shape))"
   ]
  },
  {
   "cell_type": "markdown",
   "metadata": {},
   "source": [
    "# Construct model architecture"
   ]
  },
  {
   "cell_type": "code",
   "execution_count": 6,
   "metadata": {},
   "outputs": [],
   "source": [
    "def myCNN():\n",
    "    img_input = Input(shape=(28, 28, 1))\n",
    "    co1 = Conv2D(10, (5, 5), padding='valid', activation='relu', name='co1')(img_input)\n",
    "    do1 = Dropout(0.2, name='do1')(co1)\n",
    "    co2 = Conv2D(10, (5, 5), padding='valid', activation='relu', name='co2')(do1)\n",
    "    do2 = Dropout(0.2, name='do2')(co2)\n",
    "    flat = Flatten()(do2)\n",
    "    fc1 = Dense(num_classes, activation='softmax', name='do3')(flat)\n",
    "\n",
    "    model = Model(img_input, fc1)\n",
    "    L_model = Model(img_input, co1)\n",
    "    H_model = Model(img_input, do2)\n",
    "    \n",
    "    return model, L_model, H_model"
   ]
  },
  {
   "cell_type": "code",
   "execution_count": 7,
   "metadata": {},
   "outputs": [
    {
     "name": "stdout",
     "output_type": "stream",
     "text": [
      "_________________________________________________________________\n",
      "Layer (type)                 Output Shape              Param #   \n",
      "=================================================================\n",
      "input_1 (InputLayer)         (None, 28, 28, 1)         0         \n",
      "_________________________________________________________________\n",
      "co1 (Conv2D)                 (None, 24, 24, 10)        260       \n",
      "_________________________________________________________________\n",
      "do1 (Dropout)                (None, 24, 24, 10)        0         \n",
      "_________________________________________________________________\n",
      "co2 (Conv2D)                 (None, 20, 20, 10)        2510      \n",
      "_________________________________________________________________\n",
      "do2 (Dropout)                (None, 20, 20, 10)        0         \n",
      "_________________________________________________________________\n",
      "flatten_1 (Flatten)          (None, 4000)              0         \n",
      "_________________________________________________________________\n",
      "do3 (Dense)                  (None, 10)                40010     \n",
      "=================================================================\n",
      "Total params: 42,780\n",
      "Trainable params: 42,780\n",
      "Non-trainable params: 0\n",
      "_________________________________________________________________\n"
     ]
    }
   ],
   "source": [
    "model, L_model, H_model = myCNN()\n",
    "model.summary()\n",
    "model.compile(loss='categorical_crossentropy',\n",
    "              optimizer=Adam(lr=1e-4),\n",
    "              metrics=['accuracy'])\n",
    "\n",
    "ckpt = ModelCheckpoint('CNN_model_e{epoch:02d}', # CNN_model_e{epoch:02d}_a{val_acc:.4f}\n",
    "                       monitor='val_acc',\n",
    "                       save_best_only=False,\n",
    "                       save_weights_only=True,\n",
    "                       verbose=1)\n",
    "cb = [ckpt]"
   ]
  },
  {
   "cell_type": "markdown",
   "metadata": {},
   "source": [
    "# Start to train CNN model"
   ]
  },
  {
   "cell_type": "code",
   "execution_count": 8,
   "metadata": {},
   "outputs": [
    {
     "name": "stdout",
     "output_type": "stream",
     "text": [
      "Train on 50000 samples, validate on 10000 samples\n",
      "Epoch 1/20\n",
      "50000/50000 [==============================] - 41s 815us/step - loss: 1.1859 - acc: 0.6690 - val_loss: 0.4154 - val_acc: 0.8830\n",
      "\n",
      "Epoch 00001: saving model to CNN_model_e01\n",
      "Epoch 2/20\n",
      "50000/50000 [==============================] - 41s 820us/step - loss: 0.4303 - acc: 0.8714 - val_loss: 0.3010 - val_acc: 0.9154\n",
      "\n",
      "Epoch 00002: saving model to CNN_model_e02\n",
      "Epoch 3/20\n",
      "50000/50000 [==============================] - 41s 828us/step - loss: 0.3396 - acc: 0.8987 - val_loss: 0.2507 - val_acc: 0.9307\n",
      "\n",
      "Epoch 00003: saving model to CNN_model_e03\n",
      "Epoch 4/20\n",
      "50000/50000 [==============================] - 43s 864us/step - loss: 0.2842 - acc: 0.9158 - val_loss: 0.2129 - val_acc: 0.9407\n",
      "\n",
      "Epoch 00004: saving model to CNN_model_e04\n",
      "Epoch 5/20\n",
      "50000/50000 [==============================] - 45s 907us/step - loss: 0.2436 - acc: 0.9288 - val_loss: 0.1854 - val_acc: 0.9487\n",
      "\n",
      "Epoch 00005: saving model to CNN_model_e05\n",
      "Epoch 6/20\n",
      "50000/50000 [==============================] - 43s 862us/step - loss: 0.2108 - acc: 0.9384 - val_loss: 0.1644 - val_acc: 0.9546\n",
      "\n",
      "Epoch 00006: saving model to CNN_model_e06\n",
      "Epoch 7/20\n",
      "50000/50000 [==============================] - 45s 893us/step - loss: 0.1856 - acc: 0.9448 - val_loss: 0.1485 - val_acc: 0.9581\n",
      "\n",
      "Epoch 00007: saving model to CNN_model_e07\n",
      "Epoch 8/20\n",
      "50000/50000 [==============================] - 44s 880us/step - loss: 0.1677 - acc: 0.9503 - val_loss: 0.1352 - val_acc: 0.9609\n",
      "\n",
      "Epoch 00008: saving model to CNN_model_e08\n",
      "Epoch 9/20\n",
      "50000/50000 [==============================] - 46s 914us/step - loss: 0.1540 - acc: 0.9546 - val_loss: 0.1253 - val_acc: 0.9633\n",
      "\n",
      "Epoch 00009: saving model to CNN_model_e09\n",
      "Epoch 10/20\n",
      "50000/50000 [==============================] - 46s 924us/step - loss: 0.1436 - acc: 0.9559 - val_loss: 0.1163 - val_acc: 0.9668\n",
      "\n",
      "Epoch 00010: saving model to CNN_model_e10\n",
      "Epoch 11/20\n",
      "50000/50000 [==============================] - 42s 838us/step - loss: 0.1349 - acc: 0.9598 - val_loss: 0.1114 - val_acc: 0.9675\n",
      "\n",
      "Epoch 00011: saving model to CNN_model_e11\n",
      "Epoch 12/20\n",
      "50000/50000 [==============================] - 42s 837us/step - loss: 0.1286 - acc: 0.9612 - val_loss: 0.1054 - val_acc: 0.9688\n",
      "\n",
      "Epoch 00012: saving model to CNN_model_e12\n",
      "Epoch 13/20\n",
      "50000/50000 [==============================] - 42s 839us/step - loss: 0.1211 - acc: 0.9627 - val_loss: 0.1016 - val_acc: 0.9702\n",
      "\n",
      "Epoch 00013: saving model to CNN_model_e13\n",
      "Epoch 14/20\n",
      "50000/50000 [==============================] - 42s 840us/step - loss: 0.1152 - acc: 0.9649 - val_loss: 0.0955 - val_acc: 0.9723\n",
      "\n",
      "Epoch 00014: saving model to CNN_model_e14\n",
      "Epoch 15/20\n",
      "50000/50000 [==============================] - 42s 836us/step - loss: 0.1094 - acc: 0.9666 - val_loss: 0.0928 - val_acc: 0.9732\n",
      "\n",
      "Epoch 00015: saving model to CNN_model_e15\n",
      "Epoch 16/20\n",
      "50000/50000 [==============================] - 43s 853us/step - loss: 0.1051 - acc: 0.9678 - val_loss: 0.0900 - val_acc: 0.9734\n",
      "\n",
      "Epoch 00016: saving model to CNN_model_e16\n",
      "Epoch 17/20\n",
      "50000/50000 [==============================] - 42s 849us/step - loss: 0.1024 - acc: 0.9688 - val_loss: 0.0876 - val_acc: 0.9748\n",
      "\n",
      "Epoch 00017: saving model to CNN_model_e17\n",
      "Epoch 18/20\n",
      "50000/50000 [==============================] - 42s 839us/step - loss: 0.0978 - acc: 0.9706 - val_loss: 0.0847 - val_acc: 0.9747\n",
      "\n",
      "Epoch 00018: saving model to CNN_model_e18\n",
      "Epoch 19/20\n",
      "50000/50000 [==============================] - 44s 887us/step - loss: 0.0952 - acc: 0.9711 - val_loss: 0.0829 - val_acc: 0.9762\n",
      "\n",
      "Epoch 00019: saving model to CNN_model_e19\n",
      "Epoch 20/20\n",
      "50000/50000 [==============================] - 45s 903us/step - loss: 0.0919 - acc: 0.9712 - val_loss: 0.0808 - val_acc: 0.9764\n",
      "\n",
      "Epoch 00020: saving model to CNN_model_e20\n"
     ]
    }
   ],
   "source": [
    "epochs = 20\n",
    "batch_size = 256\n",
    "\n",
    "history = model.fit(x_train,\n",
    "                    y_train,\n",
    "                    batch_size=batch_size,\n",
    "                    epochs=epochs,\n",
    "                    validation_data=(x_valid, y_valid),\n",
    "                    callbacks=cb,\n",
    "                    verbose=1)"
   ]
  },
  {
   "cell_type": "code",
   "execution_count": 9,
   "metadata": {},
   "outputs": [
    {
     "data": {
      "image/png": "[encoded data removed]",
      "text/plain": [
       "<Figure size 864x360 with 2 Axes>"
      ]
     },
     "metadata": {},
     "output_type": "display_data"
    }
   ],
   "source": [
    "l = history.history['loss']\n",
    "vl = history.history['val_loss']\n",
    "acc = history.history['acc']\n",
    "vacc = history.history['val_acc']\n",
    "\n",
    "plt.figure(figsize=(12, 5))\n",
    "plt.subplot(121)\n",
    "plt.plot(np.arange(epochs)+1, l, 'b', label='train loss')\n",
    "plt.plot(np.arange(epochs)+1, vl, 'r', label='valid loss')\n",
    "plt.xlabel(\"epochs\")\n",
    "plt.ylabel(\"loss\")\n",
    "plt.title(\"loss curve\")\n",
    "plt.legend(loc='best')\n",
    "\n",
    "plt.subplot(122)\n",
    "plt.plot(np.arange(epochs)+1, acc, 'b', label='train accuracy')\n",
    "plt.plot(np.arange(epochs)+1, vacc, 'r', label='valid accuracy')\n",
    "plt.xlabel(\"epochs\")\n",
    "plt.ylabel(\"accuracy\")\n",
    "plt.title(\"accuracy curve\")\n",
    "plt.legend(loc='best')\n",
    "plt.tight_layout()\n",
    "\n",
    "plt.show()"
   ]
  },
  {
   "cell_type": "markdown",
   "metadata": {},
   "source": [
    "# Evaluate model on the test dataset"
   ]
  },
  {
   "cell_type": "code",
   "execution_count": 10,
   "metadata": {},
   "outputs": [
    {
     "name": "stdout",
     "output_type": "stream",
     "text": [
      "Testing accuracy: [0.0704437150507234, 0.9795]\n"
     ]
    }
   ],
   "source": [
    "model_name = 'CNN_model_e20'\n",
    "model.load_weights(model_name)\n",
    "\n",
    "# prediction = model.predict(x_test)\n",
    "accuracy = model.evaluate(x_test, y_test, verbose=0)\n",
    "print('Testing accuracy: {}'.format(accuracy))"
   ]
  },
  {
   "cell_type": "code",
   "execution_count": null,
   "metadata": {},
   "outputs": [],
   "source": []
  }
 ],
 "metadata": {
  "kernelspec": {
   "display_name": "Python 3",
   "language": "python",
   "name": "python3"
  },
  "language_info": {
   "codemirror_mode": {
    "name": "ipython",
    "version": 3
   },
   "file_extension": ".py",
   "mimetype": "text/x-python",
   "name": "python",
   "nbconvert_exporter": "python",
   "pygments_lexer": "ipython3",
   "version": "3.5.2"
  }
 },
 "nbformat": 4,
 "nbformat_minor": 2
}
