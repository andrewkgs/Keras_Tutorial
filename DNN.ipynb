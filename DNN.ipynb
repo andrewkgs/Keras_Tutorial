{
 "cells": [
  {
   "cell_type": "code",
   "execution_count": 1,
   "metadata": {},
   "outputs": [],
   "source": [
    "%matplotlib inline"
   ]
  },
  {
   "cell_type": "code",
   "execution_count": 2,
   "metadata": {},
   "outputs": [
    {
     "name": "stderr",
     "output_type": "stream",
     "text": [
      "Using TensorFlow backend.\n"
     ]
    }
   ],
   "source": [
    "import numpy as np\n",
    "import matplotlib.pyplot as plt\n",
    "\n",
    "from keras.datasets import mnist\n",
    "from keras.layers import Input, Dense, Dropout, Flatten\n",
    "from keras.models import Model\n",
    "from keras.optimizers import Adam, SGD\n",
    "from keras.callbacks import ModelCheckpoint, EarlyStopping\n",
    "from keras.utils import to_categorical"
   ]
  },
  {
   "cell_type": "markdown",
   "metadata": {},
   "source": [
    "# Load images and labels"
   ]
  },
  {
   "cell_type": "code",
   "execution_count": 3,
   "metadata": {},
   "outputs": [
    {
     "name": "stdout",
     "output_type": "stream",
     "text": [
      "orginal training images shape: (60000, 28, 28)\n",
      "orginal training labels shape: (60000,)\n",
      "\n",
      "testing images shape: (10000, 28, 28)\n",
      "testing labels shape: (10000,)\n"
     ]
    }
   ],
   "source": [
    "num_classes = 10\n",
    "\n",
    "(x_train_org, y_train_org), (x_test_org, y_test_org) = mnist.load_data()\n",
    "print('orginal training images shape: {}\\norginal training labels shape: {}\\n'.format(x_train_org.shape, y_train_org.shape))\n",
    "print('testing images shape: {}\\ntesting labels shape: {}'.format(x_test_org.shape, y_test_org.shape))"
   ]
  },
  {
   "cell_type": "code",
   "execution_count": 4,
   "metadata": {},
   "outputs": [
    {
     "data": {
      "image/png": "[encoded data removed]",
      "text/plain": [
       "<Figure size 432x288 with 9 Axes>"
      ]
     },
     "metadata": {},
     "output_type": "display_data"
    }
   ],
   "source": [
    "for i in range(9):\n",
    "    plt.subplot(3,3,i+1)\n",
    "    plt.imshow(x_train_org[i], cmap='gray', interpolation='none')\n",
    "    plt.title(\"Class {}\".format(y_train_org[i]))"
   ]
  },
  {
   "cell_type": "code",
   "execution_count": 5,
   "metadata": {},
   "outputs": [
    {
     "name": "stdout",
     "output_type": "stream",
     "text": [
      "x_train shape: (50000, 784) // y_train.shape: (50000, 10)\n",
      "x_valid shape: (10000, 784) // y_valid.shape: (10000, 10)\n"
     ]
    }
   ],
   "source": [
    "x_train_org = x_train_org.reshape(60000, 784) / 255.\n",
    "x_test_org = x_test_org.reshape(10000, 784) / 255.\n",
    "\n",
    "x_train = x_train_org[:50000]\n",
    "y_train = to_categorical(y_train_org[:50000], num_classes)\n",
    "x_valid = x_train_org[50000:]\n",
    "y_valid = to_categorical(y_train_org[50000:], num_classes)\n",
    "\n",
    "x_test = x_test_org\n",
    "y_test = to_categorical(y_test_org)\n",
    "\n",
    "print('x_train shape: {} // y_train.shape: {}'.format(x_train.shape, y_train.shape))\n",
    "print('x_valid shape: {} // y_valid.shape: {}'.format(x_valid.shape, y_valid.shape))"
   ]
  },
  {
   "cell_type": "markdown",
   "metadata": {},
   "source": [
    "# Construct model architecture"
   ]
  },
  {
   "cell_type": "code",
   "execution_count": 6,
   "metadata": {},
   "outputs": [],
   "source": [
    "def myDNN():\n",
    "    img_input = Input(shape=(784,))\n",
    "    fc1 = Dense(512, activation='relu', name='fc1')(img_input)\n",
    "    do1 = Dropout(0.2, name='do1')(fc1)\n",
    "    fc2 = Dense(512, activation='relu', name='fc2')(do1)\n",
    "    do2 = Dropout(0.2, name='do2')(fc2)\n",
    "    fc3 = Dense(num_classes, activation='softmax', name='fc3')(do2)\n",
    "\n",
    "    model = Model(img_input, fc3)\n",
    "    \n",
    "    return model"
   ]
  },
  {
   "cell_type": "code",
   "execution_count": 7,
   "metadata": {},
   "outputs": [
    {
     "name": "stdout",
     "output_type": "stream",
     "text": [
      "_________________________________________________________________\n",
      "Layer (type)                 Output Shape              Param #   \n",
      "=================================================================\n",
      "input_1 (InputLayer)         (None, 784)               0         \n",
      "_________________________________________________________________\n",
      "fc1 (Dense)                  (None, 512)               401920    \n",
      "_________________________________________________________________\n",
      "do1 (Dropout)                (None, 512)               0         \n",
      "_________________________________________________________________\n",
      "fc2 (Dense)                  (None, 512)               262656    \n",
      "_________________________________________________________________\n",
      "do2 (Dropout)                (None, 512)               0         \n",
      "_________________________________________________________________\n",
      "fc3 (Dense)                  (None, 10)                5130      \n",
      "=================================================================\n",
      "Total params: 669,706\n",
      "Trainable params: 669,706\n",
      "Non-trainable params: 0\n",
      "_________________________________________________________________\n"
     ]
    }
   ],
   "source": [
    "model = myDNN()\n",
    "model.summary()\n",
    "model.compile(loss='categorical_crossentropy',\n",
    "              optimizer=Adam(lr=1e-4),\n",
    "              metrics=['accuracy'])\n",
    "\n",
    "ckpt = ModelCheckpoint('DNN_model_e{epoch:02d}', # DNN_model_e{epoch:02d}_a{val_acc:.4f}\n",
    "                       monitor='val_acc',\n",
    "                       save_best_only=False,\n",
    "                       save_weights_only=True,\n",
    "                       verbose=1)\n",
    "cb = [ckpt]"
   ]
  },
  {
   "cell_type": "markdown",
   "metadata": {},
   "source": [
    "# Start to train DNN model"
   ]
  },
  {
   "cell_type": "code",
   "execution_count": 8,
   "metadata": {},
   "outputs": [
    {
     "name": "stdout",
     "output_type": "stream",
     "text": [
      "Train on 50000 samples, validate on 10000 samples\n",
      "Epoch 1/20\n",
      "50000/50000 [==============================] - 5s 92us/step - loss: 0.8804 - acc: 0.7658 - val_loss: 0.3098 - val_acc: 0.9165\n",
      "\n",
      "Epoch 00001: saving model to DNN_model_e01\n",
      "Epoch 2/20\n",
      "50000/50000 [==============================] - 4s 88us/step - loss: 0.3348 - acc: 0.9040 - val_loss: 0.2265 - val_acc: 0.9366\n",
      "\n",
      "Epoch 00002: saving model to DNN_model_e02\n",
      "Epoch 3/20\n",
      "50000/50000 [==============================] - 4s 89us/step - loss: 0.2606 - acc: 0.9254 - val_loss: 0.1873 - val_acc: 0.9486\n",
      "\n",
      "Epoch 00003: saving model to DNN_model_e03\n",
      "Epoch 4/20\n",
      "50000/50000 [==============================] - 4s 88us/step - loss: 0.2155 - acc: 0.9378 - val_loss: 0.1628 - val_acc: 0.9548\n",
      "\n",
      "Epoch 00004: saving model to DNN_model_e04\n",
      "Epoch 5/20\n",
      "50000/50000 [==============================] - 4s 89us/step - loss: 0.1851 - acc: 0.9461 - val_loss: 0.1462 - val_acc: 0.9588\n",
      "\n",
      "Epoch 00005: saving model to DNN_model_e05\n",
      "Epoch 6/20\n",
      "50000/50000 [==============================] - 5s 91us/step - loss: 0.1632 - acc: 0.9522 - val_loss: 0.1312 - val_acc: 0.9627\n",
      "\n",
      "Epoch 00006: saving model to DNN_model_e06\n",
      "Epoch 7/20\n",
      "50000/50000 [==============================] - 4s 89us/step - loss: 0.1469 - acc: 0.9573 - val_loss: 0.1219 - val_acc: 0.9646\n",
      "\n",
      "Epoch 00007: saving model to DNN_model_e07\n",
      "Epoch 8/20\n",
      "50000/50000 [==============================] - 4s 89us/step - loss: 0.1317 - acc: 0.9612 - val_loss: 0.1148 - val_acc: 0.9652\n",
      "\n",
      "Epoch 00008: saving model to DNN_model_e08\n",
      "Epoch 9/20\n",
      "50000/50000 [==============================] - 4s 90us/step - loss: 0.1200 - acc: 0.9644 - val_loss: 0.1063 - val_acc: 0.9694\n",
      "\n",
      "Epoch 00009: saving model to DNN_model_e09\n",
      "Epoch 10/20\n",
      "50000/50000 [==============================] - 4s 89us/step - loss: 0.1099 - acc: 0.9683 - val_loss: 0.1011 - val_acc: 0.9693\n",
      "\n",
      "Epoch 00010: saving model to DNN_model_e10\n",
      "Epoch 11/20\n",
      "50000/50000 [==============================] - 4s 90us/step - loss: 0.1004 - acc: 0.9709 - val_loss: 0.0976 - val_acc: 0.9710\n",
      "\n",
      "Epoch 00011: saving model to DNN_model_e11\n",
      "Epoch 12/20\n",
      "50000/50000 [==============================] - 4s 89us/step - loss: 0.0943 - acc: 0.9727 - val_loss: 0.0914 - val_acc: 0.9723\n",
      "\n",
      "Epoch 00012: saving model to DNN_model_e12\n",
      "Epoch 13/20\n",
      "50000/50000 [==============================] - 5s 91us/step - loss: 0.0862 - acc: 0.9741 - val_loss: 0.0878 - val_acc: 0.9728\n",
      "\n",
      "Epoch 00013: saving model to DNN_model_e13\n",
      "Epoch 14/20\n",
      "50000/50000 [==============================] - 5s 94us/step - loss: 0.0800 - acc: 0.9762 - val_loss: 0.0841 - val_acc: 0.9739\n",
      "\n",
      "Epoch 00014: saving model to DNN_model_e14\n",
      "Epoch 15/20\n",
      "50000/50000 [==============================] - 5s 94us/step - loss: 0.0744 - acc: 0.9779 - val_loss: 0.0802 - val_acc: 0.9744\n",
      "\n",
      "Epoch 00015: saving model to DNN_model_e15\n",
      "Epoch 16/20\n",
      "50000/50000 [==============================] - 5s 96us/step - loss: 0.0700 - acc: 0.9787 - val_loss: 0.0792 - val_acc: 0.9752\n",
      "\n",
      "Epoch 00016: saving model to DNN_model_e16\n",
      "Epoch 17/20\n",
      "50000/50000 [==============================] - 5s 100us/step - loss: 0.0633 - acc: 0.9816 - val_loss: 0.0782 - val_acc: 0.9761\n",
      "\n",
      "Epoch 00017: saving model to DNN_model_e17\n",
      "Epoch 18/20\n",
      "50000/50000 [==============================] - 5s 94us/step - loss: 0.0613 - acc: 0.9816 - val_loss: 0.0754 - val_acc: 0.9767\n",
      "\n",
      "Epoch 00018: saving model to DNN_model_e18\n",
      "Epoch 19/20\n",
      "50000/50000 [==============================] - 5s 96us/step - loss: 0.0562 - acc: 0.9836 - val_loss: 0.0740 - val_acc: 0.9762\n",
      "\n",
      "Epoch 00019: saving model to DNN_model_e19\n",
      "Epoch 20/20\n",
      "50000/50000 [==============================] - 5s 95us/step - loss: 0.0517 - acc: 0.9849 - val_loss: 0.0730 - val_acc: 0.9766\n",
      "\n",
      "Epoch 00020: saving model to DNN_model_e20\n"
     ]
    }
   ],
   "source": [
    "epochs = 20\n",
    "batch_size = 256\n",
    "\n",
    "history = model.fit(x_train,\n",
    "                    y_train,\n",
    "                    batch_size=batch_size,\n",
    "                    epochs=epochs,\n",
    "                    validation_data=(x_valid, y_valid),\n",
    "                    callbacks=cb,\n",
    "                    verbose=1)"
   ]
  },
  {
   "cell_type": "code",
   "execution_count": 9,
   "metadata": {},
   "outputs": [
    {
     "data": {
      "image/png": "[encoded data removed]",
      "text/plain": [
       "<Figure size 864x360 with 2 Axes>"
      ]
     },
     "metadata": {},
     "output_type": "display_data"
    }
   ],
   "source": [
    "l = history.history['loss']\n",
    "vl = history.history['val_loss']\n",
    "acc = history.history['acc']\n",
    "vacc = history.history['val_acc']\n",
    "\n",
    "plt.figure(figsize=(12, 5))\n",
    "plt.subplot(121)\n",
    "plt.plot(np.arange(epochs)+1, l, 'b', label='train loss')\n",
    "plt.plot(np.arange(epochs)+1, vl, 'r', label='valid loss')\n",
    "plt.xlabel(\"epochs\")\n",
    "plt.ylabel(\"loss\")\n",
    "plt.title(\"loss curve\")\n",
    "plt.legend(loc='best')\n",
    "\n",
    "plt.subplot(122)\n",
    "plt.plot(np.arange(epochs)+1, acc, 'b', label='train accuracy')\n",
    "plt.plot(np.arange(epochs)+1, vacc, 'r', label='valid accuracy')\n",
    "plt.xlabel(\"epochs\")\n",
    "plt.ylabel(\"accuracy\")\n",
    "plt.title(\"accuracy curve\")\n",
    "plt.legend(loc='best')\n",
    "\n",
    "plt.show()"
   ]
  },
  {
   "cell_type": "markdown",
   "metadata": {},
   "source": [
    "# Evaluate model on the test dataset"
   ]
  },
  {
   "cell_type": "code",
   "execution_count": 10,
   "metadata": {},
   "outputs": [
    {
     "name": "stdout",
     "output_type": "stream",
     "text": [
      "Testing accuracy: [0.06871505109814462, 0.9789]\n"
     ]
    }
   ],
   "source": [
    "model_name = 'DNN_model_e20'\n",
    "model.load_weights(model_name)\n",
    "\n",
    "# prediction = model.predict(x_test)\n",
    "accuracy = model.evaluate(x_test, y_test, verbose=0)\n",
    "print('Testing accuracy: {}'.format(accuracy))"
   ]
  },
  {
   "cell_type": "code",
   "execution_count": null,
   "metadata": {},
   "outputs": [],
   "source": []
  }
 ],
 "metadata": {
  "kernelspec": {
   "display_name": "Python 3",
   "language": "python",
   "name": "python3"
  },
  "language_info": {
   "codemirror_mode": {
    "name": "ipython",
    "version": 3
   },
   "file_extension": ".py",
   "mimetype": "text/x-python",
   "name": "python",
   "nbconvert_exporter": "python",
   "pygments_lexer": "ipython3",
   "version": "3.5.2"
  }
 },
 "nbformat": 4,
 "nbformat_minor": 2
}
